{
 "cells": [
  {
   "cell_type": "markdown",
   "id": "30fce050",
   "metadata": {
    "id": "30fce050"
   },
   "source": [
    "<center>\n",
    "    <img src=\"https://drive.google.com/uc?export=view&id=1hDKusF04c0lNZA_qOShvWQrpImayVKz8\"  width=\"1000\" />\n",
    "</center>"
   ]
  },
  {
   "cell_type": "markdown",
   "id": "78957aef",
   "metadata": {
    "id": "78957aef"
   },
   "source": [
    "# Tugas Mandiri\n",
    "---\n",
    "Tugas mandiri ini digunakan pada kegiatan Kursus Data Science yang merupakan pembekalan bagi mahasiswa Universitas Gunadarma untuk Skema Associate Data Scientist"
   ]
  },
  {
   "cell_type": "markdown",
   "id": "e1d3e6a4",
   "metadata": {
    "id": "e1d3e6a4"
   },
   "source": [
    "### Pertemuan 4 - Semester 7"
   ]
  },
  {
   "cell_type": "markdown",
   "id": "13edd692",
   "metadata": {
    "id": "13edd692",
    "tags": []
   },
   "source": [
    "1. Buatlah model klasifikasi dengan machine learning dari dataset yang diberikan dengan ketentuan :\n",
    "    - Gunakan metode CRISP-DM secara terurut dan lengkap\n",
    "    - Gunakan algoritma linear regression, logistic regression, dan K-NN\n",
    "\n",
    "2. Dari ketiga algoritma yang anda pakai, algoritma yang manakah yang memiliki akurasi paling tinggi?"
   ]
  },
  {
   "cell_type": "markdown",
   "id": "08945189-1741-4e6f-8dbf-16a798c2ba27",
   "metadata": {
    "tags": []
   },
   "source": [
    "---\n",
    "# CRISP - DM\n",
    "## Muchammad Fadhil Wira R\n",
    "## 50420746"
   ]
  },
  {
   "cell_type": "markdown",
   "id": "bdd43a73-b331-432d-b379-3d207370fd52",
   "metadata": {},
   "source": [
    "---\n",
    "## Data Preparation"
   ]
  },
  {
   "cell_type": "code",
   "execution_count": 1,
   "id": "084c9d98-29b5-4a5c-8405-3f9c9c12a892",
   "metadata": {},
   "outputs": [],
   "source": [
    "# Mengimport Library yang digunakan\n",
    "import pandas as pd"
   ]
  },
  {
   "cell_type": "code",
   "execution_count": 2,
   "id": "24b40dcd-8a8d-46f0-89c9-1aa587b014dc",
   "metadata": {},
   "outputs": [],
   "source": [
    "# Membaca data yang ingin digunakan\n",
    "df = pd.read_csv('dataset_tm_10k.csv')"
   ]
  },
  {
   "cell_type": "code",
   "execution_count": 10,
   "id": "4acccbf2-a9d2-4940-87bb-a1f24be3fac5",
   "metadata": {},
   "outputs": [
    {
     "data": {
      "text/plain": [
       "<bound method NDFrame.head of        Flight    Time  Length Airline AirportFrom AirportTo  DayOfWeek  Class\n",
       "0       320.0   870.0   180.0     NaN         IAH       PHX          5      0\n",
       "1      3045.0   365.0    66.0      OO         DSM       MKE          2      0\n",
       "2      1560.0   740.0   257.0      DL         SEA       CVG          7      0\n",
       "3      1156.0   595.0   235.0      WN         SNA       MDW          7      1\n",
       "4      1873.0   530.0   133.0      CO         IAH       MCO          6      1\n",
       "...       ...     ...     ...     ...         ...       ...        ...    ...\n",
       "10782  2821.0   610.0    50.0      MQ         DFW       SPS          2      0\n",
       "10783  2618.0   839.0   118.0      XE         SDF       EWR          2      0\n",
       "10784  1973.0  1160.0   124.0      DL         ATL       MIA          2      0\n",
       "10785   528.0  1275.0   112.0      US         PHX       RNO          4      0\n",
       "10786  2254.0   970.0     NaN      DL         ATL       CMH          4      1\n",
       "\n",
       "[10787 rows x 8 columns]>"
      ]
     },
     "execution_count": 10,
     "metadata": {},
     "output_type": "execute_result"
    }
   ],
   "source": [
    "# Menggunakan fungsi Head, Tail untuk menampilkan data 5 teratas dan 5 terbawah\n",
    "df.head"
   ]
  },
  {
   "cell_type": "code",
   "execution_count": 11,
   "id": "7de17d34-deda-4909-943c-a939fa951bdf",
   "metadata": {},
   "outputs": [
    {
     "data": {
      "text/plain": [
       "(10787, 8)"
      ]
     },
     "execution_count": 11,
     "metadata": {},
     "output_type": "execute_result"
    }
   ],
   "source": [
    "# Menggunakan fungsi Shape untuk melihat jumlah baris dan kolom\n",
    "df.shape"
   ]
  },
  {
   "cell_type": "code",
   "execution_count": 14,
   "id": "76b8e9f6-9b49-4676-b13b-ba7b9d94de23",
   "metadata": {},
   "outputs": [
    {
     "data": {
      "text/plain": [
       "Flight         float64\n",
       "Time           float64\n",
       "Length         float64\n",
       "Airline         object\n",
       "AirportFrom     object\n",
       "AirportTo       object\n",
       "DayOfWeek        int64\n",
       "Class            int64\n",
       "dtype: object"
      ]
     },
     "execution_count": 14,
     "metadata": {},
     "output_type": "execute_result"
    }
   ],
   "source": [
    "# Menggunakan fungsi Dtype untuk melihat tipe data pada data base\n",
    "df.dtypes"
   ]
  },
  {
   "cell_type": "code",
   "execution_count": 17,
   "id": "308cf11e-00ca-4ffe-9b2b-1889507b440b",
   "metadata": {},
   "outputs": [
    {
     "data": {
      "text/html": [
       "<div>\n",
       "<style scoped>\n",
       "    .dataframe tbody tr th:only-of-type {\n",
       "        vertical-align: middle;\n",
       "    }\n",
       "\n",
       "    .dataframe tbody tr th {\n",
       "        vertical-align: top;\n",
       "    }\n",
       "\n",
       "    .dataframe thead th {\n",
       "        text-align: right;\n",
       "    }\n",
       "</style>\n",
       "<table border=\"1\" class=\"dataframe\">\n",
       "  <thead>\n",
       "    <tr style=\"text-align: right;\">\n",
       "      <th></th>\n",
       "      <th>Flight</th>\n",
       "      <th>Time</th>\n",
       "      <th>Length</th>\n",
       "      <th>Airline</th>\n",
       "      <th>AirportFrom</th>\n",
       "      <th>AirportTo</th>\n",
       "      <th>DayOfWeek</th>\n",
       "      <th>Class</th>\n",
       "    </tr>\n",
       "  </thead>\n",
       "  <tbody>\n",
       "    <tr>\n",
       "      <th>count</th>\n",
       "      <td>10787.000000</td>\n",
       "      <td>9914.000000</td>\n",
       "      <td>9444.000000</td>\n",
       "      <td>10205</td>\n",
       "      <td>10787</td>\n",
       "      <td>10787</td>\n",
       "      <td>10787.000000</td>\n",
       "      <td>10787.000000</td>\n",
       "    </tr>\n",
       "    <tr>\n",
       "      <th>unique</th>\n",
       "      <td>NaN</td>\n",
       "      <td>NaN</td>\n",
       "      <td>NaN</td>\n",
       "      <td>18</td>\n",
       "      <td>270</td>\n",
       "      <td>265</td>\n",
       "      <td>NaN</td>\n",
       "      <td>NaN</td>\n",
       "    </tr>\n",
       "    <tr>\n",
       "      <th>top</th>\n",
       "      <td>NaN</td>\n",
       "      <td>NaN</td>\n",
       "      <td>NaN</td>\n",
       "      <td>WN</td>\n",
       "      <td>ATL</td>\n",
       "      <td>ATL</td>\n",
       "      <td>NaN</td>\n",
       "      <td>NaN</td>\n",
       "    </tr>\n",
       "    <tr>\n",
       "      <th>freq</th>\n",
       "      <td>NaN</td>\n",
       "      <td>NaN</td>\n",
       "      <td>NaN</td>\n",
       "      <td>1795</td>\n",
       "      <td>687</td>\n",
       "      <td>708</td>\n",
       "      <td>NaN</td>\n",
       "      <td>NaN</td>\n",
       "    </tr>\n",
       "    <tr>\n",
       "      <th>mean</th>\n",
       "      <td>2435.506999</td>\n",
       "      <td>803.378253</td>\n",
       "      <td>133.429161</td>\n",
       "      <td>NaN</td>\n",
       "      <td>NaN</td>\n",
       "      <td>NaN</td>\n",
       "      <td>3.895430</td>\n",
       "      <td>0.447576</td>\n",
       "    </tr>\n",
       "    <tr>\n",
       "      <th>std</th>\n",
       "      <td>2071.935213</td>\n",
       "      <td>276.880784</td>\n",
       "      <td>71.861876</td>\n",
       "      <td>NaN</td>\n",
       "      <td>NaN</td>\n",
       "      <td>NaN</td>\n",
       "      <td>1.923294</td>\n",
       "      <td>0.497267</td>\n",
       "    </tr>\n",
       "    <tr>\n",
       "      <th>min</th>\n",
       "      <td>1.000000</td>\n",
       "      <td>15.000000</td>\n",
       "      <td>29.000000</td>\n",
       "      <td>NaN</td>\n",
       "      <td>NaN</td>\n",
       "      <td>NaN</td>\n",
       "      <td>1.000000</td>\n",
       "      <td>0.000000</td>\n",
       "    </tr>\n",
       "    <tr>\n",
       "      <th>25%</th>\n",
       "      <td>720.000000</td>\n",
       "      <td>570.000000</td>\n",
       "      <td>81.000000</td>\n",
       "      <td>NaN</td>\n",
       "      <td>NaN</td>\n",
       "      <td>NaN</td>\n",
       "      <td>2.000000</td>\n",
       "      <td>0.000000</td>\n",
       "    </tr>\n",
       "    <tr>\n",
       "      <th>50%</th>\n",
       "      <td>1798.000000</td>\n",
       "      <td>795.000000</td>\n",
       "      <td>116.000000</td>\n",
       "      <td>NaN</td>\n",
       "      <td>NaN</td>\n",
       "      <td>NaN</td>\n",
       "      <td>4.000000</td>\n",
       "      <td>0.000000</td>\n",
       "    </tr>\n",
       "    <tr>\n",
       "      <th>75%</th>\n",
       "      <td>3785.500000</td>\n",
       "      <td>1034.000000</td>\n",
       "      <td>164.000000</td>\n",
       "      <td>NaN</td>\n",
       "      <td>NaN</td>\n",
       "      <td>NaN</td>\n",
       "      <td>5.000000</td>\n",
       "      <td>1.000000</td>\n",
       "    </tr>\n",
       "    <tr>\n",
       "      <th>max</th>\n",
       "      <td>7812.000000</td>\n",
       "      <td>1439.000000</td>\n",
       "      <td>655.000000</td>\n",
       "      <td>NaN</td>\n",
       "      <td>NaN</td>\n",
       "      <td>NaN</td>\n",
       "      <td>7.000000</td>\n",
       "      <td>1.000000</td>\n",
       "    </tr>\n",
       "  </tbody>\n",
       "</table>\n",
       "</div>"
      ],
      "text/plain": [
       "              Flight         Time       Length Airline AirportFrom AirportTo  \\\n",
       "count   10787.000000  9914.000000  9444.000000   10205       10787     10787   \n",
       "unique           NaN          NaN          NaN      18         270       265   \n",
       "top              NaN          NaN          NaN      WN         ATL       ATL   \n",
       "freq             NaN          NaN          NaN    1795         687       708   \n",
       "mean     2435.506999   803.378253   133.429161     NaN         NaN       NaN   \n",
       "std      2071.935213   276.880784    71.861876     NaN         NaN       NaN   \n",
       "min         1.000000    15.000000    29.000000     NaN         NaN       NaN   \n",
       "25%       720.000000   570.000000    81.000000     NaN         NaN       NaN   \n",
       "50%      1798.000000   795.000000   116.000000     NaN         NaN       NaN   \n",
       "75%      3785.500000  1034.000000   164.000000     NaN         NaN       NaN   \n",
       "max      7812.000000  1439.000000   655.000000     NaN         NaN       NaN   \n",
       "\n",
       "           DayOfWeek         Class  \n",
       "count   10787.000000  10787.000000  \n",
       "unique           NaN           NaN  \n",
       "top              NaN           NaN  \n",
       "freq             NaN           NaN  \n",
       "mean        3.895430      0.447576  \n",
       "std         1.923294      0.497267  \n",
       "min         1.000000      0.000000  \n",
       "25%         2.000000      0.000000  \n",
       "50%         4.000000      0.000000  \n",
       "75%         5.000000      1.000000  \n",
       "max         7.000000      1.000000  "
      ]
     },
     "execution_count": 17,
     "metadata": {},
     "output_type": "execute_result"
    }
   ],
   "source": [
    "# Menggunakan fungsi Describe untuk Menampilkan statistik kolom baik yang bertipe numerik dan non numerik\n",
    "df.describe(include = 'all')"
   ]
  },
  {
   "cell_type": "markdown",
   "id": "b81f790e-9296-441c-93ce-fb0dfdcd18d9",
   "metadata": {},
   "source": [
    "#### Mendeteksi Outlier"
   ]
  },
  {
   "cell_type": "code",
   "execution_count": 18,
   "id": "85e1a037-7727-4184-8606-f2470db048a9",
   "metadata": {},
   "outputs": [
    {
     "data": {
      "text/plain": [
       "Flight       3065.5\n",
       "Time          464.0\n",
       "Length         83.0\n",
       "DayOfWeek       3.0\n",
       "Class           1.0\n",
       "dtype: float64"
      ]
     },
     "execution_count": 18,
     "metadata": {},
     "output_type": "execute_result"
    }
   ],
   "source": [
    "q1 = df.select_dtypes(exclude=['object']).quantile (0.25)\n",
    "q3 = df.select_dtypes(exclude=['object']).quantile (0.75)\n",
    "iqr = q3-q1\n",
    "iqr"
   ]
  },
  {
   "cell_type": "code",
   "execution_count": 19,
   "id": "4e687ff5-5257-47ee-b3ea-5cc67f5c966c",
   "metadata": {},
   "outputs": [
    {
     "data": {
      "text/plain": [
       "Flight      -3878.25\n",
       "Time         -126.00\n",
       "Length        -43.50\n",
       "DayOfWeek      -2.50\n",
       "Class          -1.50\n",
       "dtype: float64"
      ]
     },
     "execution_count": 19,
     "metadata": {},
     "output_type": "execute_result"
    }
   ],
   "source": [
    "# Melihat batas bawah\n",
    "batas_bawah = q1 - (1.5 * iqr)\n",
    "batas_bawah"
   ]
  },
  {
   "cell_type": "code",
   "execution_count": 20,
   "id": "652dab12-d2a6-4965-8721-1f5afa2d5968",
   "metadata": {},
   "outputs": [
    {
     "data": {
      "text/plain": [
       "Flight       8383.75\n",
       "Time         1730.00\n",
       "Length        288.50\n",
       "DayOfWeek       9.50\n",
       "Class           2.50\n",
       "dtype: float64"
      ]
     },
     "execution_count": 20,
     "metadata": {},
     "output_type": "execute_result"
    }
   ],
   "source": [
    "# Melihat batas atas\n",
    "batas_atas = q3 + (1.5 * iqr)\n",
    "batas_atas"
   ]
  },
  {
   "cell_type": "markdown",
   "id": "6864a291-0834-4deb-bdb9-e3a975b95af4",
   "metadata": {},
   "source": [
    "#### Memvisualisasikan Outlier"
   ]
  },
  {
   "cell_type": "code",
   "execution_count": 21,
   "id": "8f35d427-4e6e-4450-bac2-e9dd5b0fa006",
   "metadata": {},
   "outputs": [],
   "source": [
    "# Memanggil beberapa library yang akan dipakai\n",
    "\n",
    "# Library Numpy\n",
    "import numpy as np\n",
    "# Pyplot\n",
    "import matplotlib.pyplot as plt\n",
    "# Seaborn\n",
    "import seaborn as sns"
   ]
  },
  {
   "cell_type": "code",
   "execution_count": 22,
   "id": "8aca027c-e748-4826-ba93-f5adb5daaf7b",
   "metadata": {},
   "outputs": [
    {
     "data": {
      "image/png": "[encoded data removed]",
      "text/plain": [
       "<Figure size 1440x144 with 1 Axes>"
      ]
     },
     "metadata": {
      "needs_background": "light"
     },
     "output_type": "display_data"
    },
    {
     "data": {
      "image/png": "[encoded data removed]",
      "text/plain": [
       "<Figure size 1440x144 with 1 Axes>"
      ]
     },
     "metadata": {
      "needs_background": "light"
     },
     "output_type": "display_data"
    },
    {
     "data": {
      "image/png": "[encoded data removed]",
      "text/plain": [
       "<Figure size 1440x144 with 1 Axes>"
      ]
     },
     "metadata": {
      "needs_background": "light"
     },
     "output_type": "display_data"
    },
    {
     "data": {
      "image/png": "[encoded data removed]",
      "text/plain": [
       "<Figure size 1440x144 with 1 Axes>"
      ]
     },
     "metadata": {
      "needs_background": "light"
     },
     "output_type": "display_data"
    },
    {
     "data": {
      "image/png": "[encoded data removed]",
      "text/plain": [
       "<Figure size 1440x144 with 1 Axes>"
      ]
     },
     "metadata": {
      "needs_background": "light"
     },
     "output_type": "display_data"
    }
   ],
   "source": [
    "# Mencari Outliers \n",
    "# Exclude tipe data object\n",
    "df_outlier = df.select_dtypes(exclude=['object'])\n",
    "for column in df_outlier:\n",
    "        plt.figure(figsize=(20,2))\n",
    "        sns.boxplot(data=df_outlier, x=column)"
   ]
  },
  {
   "cell_type": "code",
   "execution_count": 33,
   "id": "a2cef251-6975-47d2-8394-c4125463a406",
   "metadata": {},
   "outputs": [
    {
     "data": {
      "text/plain": [
       "Time            873\n",
       "Length         1343\n",
       "Airline         582\n",
       "AirportFrom       0\n",
       "AirportTo         0\n",
       "DayOfWeek         0\n",
       "Class             0\n",
       "dtype: int64"
      ]
     },
     "execution_count": 33,
     "metadata": {},
     "output_type": "execute_result"
    }
   ],
   "source": [
    "df.isna().sum()"
   ]
  },
  {
   "cell_type": "code",
   "execution_count": 46,
   "id": "bf2905e4-02e8-4daa-b24d-9e8ee9cca118",
   "metadata": {},
   "outputs": [
    {
     "name": "stdout",
     "output_type": "stream",
     "text": [
      "Time : 0.01805657968877171\n",
      "Length : 0.20998989605180568\n"
     ]
    }
   ],
   "source": [
    "# Menghitung persentase data yang kosong pada kolom \"Length\" dan \"Time\"\n",
    "# Melakukan imputasi pada data yang kosong dengan menggunakan imputasi rata-rata\n",
    "# Airline tidak dimasukkan karena termasuk kategorical\n",
    "null_columns = ['Time','Length']\n",
    "\n",
    "for i in null_columns :\n",
    "    mean_value = df[i].mean()\n",
    "    print(\"%s : %s\" % (i ,  str(mean_value)))\n",
    "    df[i].fillna(mean_value, inplace = True)"
   ]
  },
  {
   "cell_type": "code",
   "execution_count": 48,
   "id": "bba620fa-cc67-48a4-8085-152aaeefd836",
   "metadata": {},
   "outputs": [
    {
     "data": {
      "text/plain": [
       "Time             0\n",
       "Length           0\n",
       "Airline        582\n",
       "AirportFrom      0\n",
       "AirportTo        0\n",
       "DayOfWeek        0\n",
       "Class            0\n",
       "dtype: int64"
      ]
     },
     "execution_count": 48,
     "metadata": {},
     "output_type": "execute_result"
    }
   ],
   "source": [
    "# Mengecek kembali apakah masih ada nilai yang nan atau tidak \n",
    "df.isna().sum()"
   ]
  },
  {
   "cell_type": "code",
   "execution_count": 50,
   "id": "35ff3d38-51bf-4fe5-8785-9da1e114b146",
   "metadata": {},
   "outputs": [],
   "source": [
    "from sklearn.impute import SimpleImputer"
   ]
  },
  {
   "cell_type": "code",
   "execution_count": 51,
   "id": "0e99da2c-a78d-4dbd-9ea5-026b875a5945",
   "metadata": {},
   "outputs": [
    {
     "name": "stdout",
     "output_type": "stream",
     "text": [
      "[['WN']\n",
      " ['OO']\n",
      " ['DL']\n",
      " ...\n",
      " ['DL']\n",
      " ['US']\n",
      " ['DL']]\n"
     ]
    }
   ],
   "source": [
    "# menggunakan fungsi imputasi untuk mengganti nilai pada kolom \"Airline\"\n",
    "airportfrom_column = df['Airline'].copy()\n",
    "\n",
    "modeImputer = SimpleImputer(strategy='most_frequent')\n",
    "\n",
    "imputed_data = modeImputer.fit_transform(airportfrom_column.values.reshape(-1, 1))\n",
    "\n",
    "df['Airline'] = imputed_data.flatten()\n",
    "print(imputed_data)"
   ]
  },
  {
   "cell_type": "code",
   "execution_count": 53,
   "id": "d18b657e-9655-4d8e-aa95-d311a7d6ca3f",
   "metadata": {},
   "outputs": [
    {
     "data": {
      "text/plain": [
       "array(['9E', 'AA', 'AS', 'B6', 'CO', 'DL', 'EV', 'F9', 'FL', 'HA', 'MQ',\n",
       "       'OH', 'OO', 'UA', 'US', 'WN', 'XE', 'YV'], dtype=object)"
      ]
     },
     "execution_count": 53,
     "metadata": {},
     "output_type": "execute_result"
    }
   ],
   "source": [
    "# Mengimputasi data\n",
    "np.unique(imputed_data)"
   ]
  },
  {
   "cell_type": "code",
   "execution_count": 54,
   "id": "d5afcdce-0fa2-4649-a604-db3656e5f2a6",
   "metadata": {},
   "outputs": [
    {
     "data": {
      "text/plain": [
       "False"
      ]
     },
     "execution_count": 54,
     "metadata": {},
     "output_type": "execute_result"
    }
   ],
   "source": [
    "# Mengecek nilai pada kolom \"Airline\"\n",
    "df['Airline'].isna().any()"
   ]
  },
  {
   "cell_type": "code",
   "execution_count": null,
   "id": "2ddf9a35-8726-45b4-9d18-214cb9d7e76c",
   "metadata": {},
   "outputs": [],
   "source": []
  },
  {
   "cell_type": "markdown",
   "id": "05a0f4aa-328f-48d1-8661-a2e2dd455d64",
   "metadata": {},
   "source": [
    "---\n",
    "## Modeling"
   ]
  },
  {
   "cell_type": "markdown",
   "id": "dd7ea490-785f-4933-92b9-a6dd5dd4a851",
   "metadata": {
    "tags": []
   },
   "source": [
    "### Linear Regression\n",
    "---"
   ]
  },
  {
   "cell_type": "code",
   "execution_count": 23,
   "id": "cdf3332e-677d-445e-92d0-6edfde47c2ce",
   "metadata": {},
   "outputs": [],
   "source": [
    "# Memanggil library untuk Scaling\n",
    "from sklearn.preprocessing import RobustScaler"
   ]
  },
  {
   "cell_type": "code",
   "execution_count": 25,
   "id": "5ac07f6f-3c04-4b04-9641-580fa14337fa",
   "metadata": {},
   "outputs": [],
   "source": [
    "# Menggunakan fungsi Iloc untuk menghilangkan kolom Flight\n",
    "df = df.iloc[:,1:]\n",
    "df.head()"
   ]
  },
  {
   "cell_type": "code",
   "execution_count": 27,
   "id": "11a5d0e0-3ddb-4e8e-9aaa-e476a894b445",
   "metadata": {},
   "outputs": [
    {
     "data": {
      "text/html": [
       "<div>\n",
       "<style scoped>\n",
       "    .dataframe tbody tr th:only-of-type {\n",
       "        vertical-align: middle;\n",
       "    }\n",
       "\n",
       "    .dataframe tbody tr th {\n",
       "        vertical-align: top;\n",
       "    }\n",
       "\n",
       "    .dataframe thead th {\n",
       "        text-align: right;\n",
       "    }\n",
       "</style>\n",
       "<table border=\"1\" class=\"dataframe\">\n",
       "  <thead>\n",
       "    <tr style=\"text-align: right;\">\n",
       "      <th></th>\n",
       "      <th>Time</th>\n",
       "      <th>Length</th>\n",
       "      <th>Airline</th>\n",
       "      <th>AirportFrom</th>\n",
       "      <th>AirportTo</th>\n",
       "      <th>DayOfWeek</th>\n",
       "      <th>Class</th>\n",
       "    </tr>\n",
       "  </thead>\n",
       "  <tbody>\n",
       "    <tr>\n",
       "      <th>0</th>\n",
       "      <td>0.161638</td>\n",
       "      <td>0.771084</td>\n",
       "      <td>NaN</td>\n",
       "      <td>IAH</td>\n",
       "      <td>PHX</td>\n",
       "      <td>5</td>\n",
       "      <td>0</td>\n",
       "    </tr>\n",
       "    <tr>\n",
       "      <th>1</th>\n",
       "      <td>-0.926724</td>\n",
       "      <td>-0.602410</td>\n",
       "      <td>OO</td>\n",
       "      <td>DSM</td>\n",
       "      <td>MKE</td>\n",
       "      <td>2</td>\n",
       "      <td>0</td>\n",
       "    </tr>\n",
       "    <tr>\n",
       "      <th>2</th>\n",
       "      <td>-0.118534</td>\n",
       "      <td>1.698795</td>\n",
       "      <td>DL</td>\n",
       "      <td>SEA</td>\n",
       "      <td>CVG</td>\n",
       "      <td>7</td>\n",
       "      <td>0</td>\n",
       "    </tr>\n",
       "    <tr>\n",
       "      <th>3</th>\n",
       "      <td>-0.431034</td>\n",
       "      <td>1.433735</td>\n",
       "      <td>WN</td>\n",
       "      <td>SNA</td>\n",
       "      <td>MDW</td>\n",
       "      <td>7</td>\n",
       "      <td>1</td>\n",
       "    </tr>\n",
       "    <tr>\n",
       "      <th>4</th>\n",
       "      <td>-0.571121</td>\n",
       "      <td>0.204819</td>\n",
       "      <td>CO</td>\n",
       "      <td>IAH</td>\n",
       "      <td>MCO</td>\n",
       "      <td>6</td>\n",
       "      <td>1</td>\n",
       "    </tr>\n",
       "  </tbody>\n",
       "</table>\n",
       "</div>"
      ],
      "text/plain": [
       "       Time    Length Airline AirportFrom AirportTo  DayOfWeek  Class\n",
       "0  0.161638  0.771084     NaN         IAH       PHX          5      0\n",
       "1 -0.926724 -0.602410      OO         DSM       MKE          2      0\n",
       "2 -0.118534  1.698795      DL         SEA       CVG          7      0\n",
       "3 -0.431034  1.433735      WN         SNA       MDW          7      1\n",
       "4 -0.571121  0.204819      CO         IAH       MCO          6      1"
      ]
     },
     "execution_count": 27,
     "metadata": {},
     "output_type": "execute_result"
    }
   ],
   "source": [
    "scaler = RobustScaler()\n",
    "df[['Time','Length']] = scaler.fit_transform(df[['Time','Length']])\n",
    "df.head()"
   ]
  },
  {
   "cell_type": "code",
   "execution_count": 59,
   "id": "0d3f8e3d-a91c-4538-b5a1-c02754619b99",
   "metadata": {},
   "outputs": [],
   "source": [
    "# Membuat variabel independen (X) dan variabel dependen (y)\n",
    "X = df[['Time']]\n",
    "y = df['Class']"
   ]
  },
  {
   "cell_type": "markdown",
   "id": "681cf9cd-97c9-440f-bf36-d557b6b3a3fd",
   "metadata": {},
   "source": [
    "lalu kita buat Data testing dan Data training dengan sekala 70 : 30"
   ]
  },
  {
   "cell_type": "code",
   "execution_count": 60,
   "id": "69105ec7-82cf-444c-8c5c-581b282ace52",
   "metadata": {},
   "outputs": [],
   "source": [
    "# Membagi dataset ke data latih dan data uji\n",
    "\n",
    "from sklearn.model_selection import train_test_split\n",
    "\n",
    "X_train, X_test, y_train, y_test = train_test_split(X,y,test_size=0.3, random_state=0)"
   ]
  },
  {
   "cell_type": "markdown",
   "id": "e2fe9a17-390e-4ae3-9bcf-90e0c140e0d5",
   "metadata": {},
   "source": [
    "- Dari printah diatas kita membuat data 70% data pada database digunakan sebagai Data Training\n",
    "- dan kita buat 30% sisa datanya sebagai Data Test untuk melihat prakira data berikutnya atau forcast"
   ]
  },
  {
   "cell_type": "code",
   "execution_count": 61,
   "id": "716d90af-38ad-47d7-8d87-7b4d77457b89",
   "metadata": {},
   "outputs": [],
   "source": [
    "# Memanggil fungsi LinearRegression\n",
    "from sklearn.linear_model import LinearRegression"
   ]
  },
  {
   "cell_type": "code",
   "execution_count": 62,
   "id": "ae4411a2-06fa-4071-b8cf-7d2f773aa56d",
   "metadata": {},
   "outputs": [
    {
     "data": {
      "text/html": [
       "<style>#sk-container-id-1 {color: black;}#sk-container-id-1 pre{padding: 0;}#sk-container-id-1 div.sk-toggleable {background-color: white;}#sk-container-id-1 label.sk-toggleable__label {cursor: pointer;display: block;width: 100%;margin-bottom: 0;padding: 0.3em;box-sizing: border-box;text-align: center;}#sk-container-id-1 label.sk-toggleable__label-arrow:before {content: \"▸\";float: left;margin-right: 0.25em;color: #696969;}#sk-container-id-1 label.sk-toggleable__label-arrow:hover:before {color: black;}#sk-container-id-1 div.sk-estimator:hover label.sk-toggleable__label-arrow:before {color: black;}#sk-container-id-1 div.sk-toggleable__content {max-height: 0;max-width: 0;overflow: hidden;text-align: left;background-color: #f0f8ff;}#sk-container-id-1 div.sk-toggleable__content pre {margin: 0.2em;color: black;border-radius: 0.25em;background-color: #f0f8ff;}#sk-container-id-1 input.sk-toggleable__control:checked~div.sk-toggleable__content {max-height: 200px;max-width: 100%;overflow: auto;}#sk-container-id-1 input.sk-toggleable__control:checked~label.sk-toggleable__label-arrow:before {content: \"▾\";}#sk-container-id-1 div.sk-estimator input.sk-toggleable__control:checked~label.sk-toggleable__label {background-color: #d4ebff;}#sk-container-id-1 div.sk-label input.sk-toggleable__control:checked~label.sk-toggleable__label {background-color: #d4ebff;}#sk-container-id-1 input.sk-hidden--visually {border: 0;clip: rect(1px 1px 1px 1px);clip: rect(1px, 1px, 1px, 1px);height: 1px;margin: -1px;overflow: hidden;padding: 0;position: absolute;width: 1px;}#sk-container-id-1 div.sk-estimator {font-family: monospace;background-color: #f0f8ff;border: 1px dotted black;border-radius: 0.25em;box-sizing: border-box;margin-bottom: 0.5em;}#sk-container-id-1 div.sk-estimator:hover {background-color: #d4ebff;}#sk-container-id-1 div.sk-parallel-item::after {content: \"\";width: 100%;border-bottom: 1px solid gray;flex-grow: 1;}#sk-container-id-1 div.sk-label:hover label.sk-toggleable__label {background-color: #d4ebff;}#sk-container-id-1 div.sk-serial::before {content: \"\";position: absolute;border-left: 1px solid gray;box-sizing: border-box;top: 0;bottom: 0;left: 50%;z-index: 0;}#sk-container-id-1 div.sk-serial {display: flex;flex-direction: column;align-items: center;background-color: white;padding-right: 0.2em;padding-left: 0.2em;position: relative;}#sk-container-id-1 div.sk-item {position: relative;z-index: 1;}#sk-container-id-1 div.sk-parallel {display: flex;align-items: stretch;justify-content: center;background-color: white;position: relative;}#sk-container-id-1 div.sk-item::before, #sk-container-id-1 div.sk-parallel-item::before {content: \"\";position: absolute;border-left: 1px solid gray;box-sizing: border-box;top: 0;bottom: 0;left: 50%;z-index: -1;}#sk-container-id-1 div.sk-parallel-item {display: flex;flex-direction: column;z-index: 1;position: relative;background-color: white;}#sk-container-id-1 div.sk-parallel-item:first-child::after {align-self: flex-end;width: 50%;}#sk-container-id-1 div.sk-parallel-item:last-child::after {align-self: flex-start;width: 50%;}#sk-container-id-1 div.sk-parallel-item:only-child::after {width: 0;}#sk-container-id-1 div.sk-dashed-wrapped {border: 1px dashed gray;margin: 0 0.4em 0.5em 0.4em;box-sizing: border-box;padding-bottom: 0.4em;background-color: white;}#sk-container-id-1 div.sk-label label {font-family: monospace;font-weight: bold;display: inline-block;line-height: 1.2em;}#sk-container-id-1 div.sk-label-container {text-align: center;}#sk-container-id-1 div.sk-container {/* jupyter's `normalize.less` sets `[hidden] { display: none; }` but bootstrap.min.css set `[hidden] { display: none !important; }` so we also need the `!important` here to be able to override the default hidden behavior on the sphinx rendered scikit-learn.org. See: https://github.com/scikit-learn/scikit-learn/issues/21755 */display: inline-block !important;position: relative;}#sk-container-id-1 div.sk-text-repr-fallback {display: none;}</style><div id=\"sk-container-id-1\" class=\"sk-top-container\"><div class=\"sk-text-repr-fallback\"><pre>LinearRegression()</pre><b>In a Jupyter environment, please rerun this cell to show the HTML representation or trust the notebook. <br />On GitHub, the HTML representation is unable to render, please try loading this page with nbviewer.org.</b></div><div class=\"sk-container\" hidden><div class=\"sk-item\"><div class=\"sk-estimator sk-toggleable\"><input class=\"sk-toggleable__control sk-hidden--visually\" id=\"sk-estimator-id-1\" type=\"checkbox\" checked><label for=\"sk-estimator-id-1\" class=\"sk-toggleable__label sk-toggleable__label-arrow\">LinearRegression</label><div class=\"sk-toggleable__content\"><pre>LinearRegression()</pre></div></div></div></div></div>"
      ],
      "text/plain": [
       "LinearRegression()"
      ]
     },
     "execution_count": 62,
     "metadata": {},
     "output_type": "execute_result"
    }
   ],
   "source": [
    "# Memanggil objek LinearRegression ke dalam variabel lr\n",
    "lr = LinearRegression()\n",
    "\n",
    "# Melatih model\n",
    "lr.fit(X_train, y_train)"
   ]
  },
  {
   "cell_type": "code",
   "execution_count": 63,
   "id": "dba7e43d-12e5-4651-ad28-2e2ddd6ccd08",
   "metadata": {},
   "outputs": [
    {
     "name": "stdout",
     "output_type": "stream",
     "text": [
      "Prediction for test set: [0.35403114 0.44670824 0.53691394 ... 0.45125022 0.39555048 0.48995755]\n"
     ]
    }
   ],
   "source": [
    "# Memprediksi model\n",
    "y_pred_lr = lr.predict(X_test)\n",
    "# Nilai prediksi\n",
    "print(\"Prediction for test set: {}\".format(y_pred_lr))"
   ]
  },
  {
   "cell_type": "code",
   "execution_count": 64,
   "id": "04d8e97e-3810-4a90-958e-7eff7c99d972",
   "metadata": {},
   "outputs": [
    {
     "data": {
      "text/html": [
       "<div>\n",
       "<style scoped>\n",
       "    .dataframe tbody tr th:only-of-type {\n",
       "        vertical-align: middle;\n",
       "    }\n",
       "\n",
       "    .dataframe tbody tr th {\n",
       "        vertical-align: top;\n",
       "    }\n",
       "\n",
       "    .dataframe thead th {\n",
       "        text-align: right;\n",
       "    }\n",
       "</style>\n",
       "<table border=\"1\" class=\"dataframe\">\n",
       "  <thead>\n",
       "    <tr style=\"text-align: right;\">\n",
       "      <th></th>\n",
       "      <th>Actual value</th>\n",
       "      <th>Predicted value</th>\n",
       "    </tr>\n",
       "  </thead>\n",
       "  <tbody>\n",
       "    <tr>\n",
       "      <th>7823</th>\n",
       "      <td>1</td>\n",
       "      <td>0.354031</td>\n",
       "    </tr>\n",
       "    <tr>\n",
       "      <th>6132</th>\n",
       "      <td>0</td>\n",
       "      <td>0.446708</td>\n",
       "    </tr>\n",
       "    <tr>\n",
       "      <th>9949</th>\n",
       "      <td>0</td>\n",
       "      <td>0.536914</td>\n",
       "    </tr>\n",
       "    <tr>\n",
       "      <th>10440</th>\n",
       "      <td>0</td>\n",
       "      <td>0.519367</td>\n",
       "    </tr>\n",
       "    <tr>\n",
       "      <th>9097</th>\n",
       "      <td>1</td>\n",
       "      <td>0.447944</td>\n",
       "    </tr>\n",
       "  </tbody>\n",
       "</table>\n",
       "</div>"
      ],
      "text/plain": [
       "       Actual value  Predicted value\n",
       "7823              1         0.354031\n",
       "6132              0         0.446708\n",
       "9949              0         0.536914\n",
       "10440             0         0.519367\n",
       "9097              1         0.447944"
      ]
     },
     "execution_count": 64,
     "metadata": {},
     "output_type": "execute_result"
    }
   ],
   "source": [
    "# Membandingkan nilai sebenarnya dengan nilai prediksi menggunakan linear regression\n",
    "lr_diff = pd.DataFrame({'Actual value': y_test, 'Predicted value': y_pred_lr})\n",
    "lr_diff.head()"
   ]
  },
  {
   "cell_type": "code",
   "execution_count": 65,
   "id": "194475d4-202b-4c39-875a-3de033e03868",
   "metadata": {},
   "outputs": [],
   "source": [
    "# Menerapkan threshold pada variabel y_pred_lr ke dalam variabel y_predict_class\n",
    "y_predict_class = [1 if prob > 0.5 else 0 for prob in y_pred_lr]"
   ]
  },
  {
   "cell_type": "code",
   "execution_count": 66,
   "id": "b9ed0c15-02c2-4174-b787-c9ee06a06149",
   "metadata": {},
   "outputs": [
    {
     "name": "stdout",
     "output_type": "stream",
     "text": [
      "Accuracy: 0.562\n"
     ]
    }
   ],
   "source": [
    "# Import Library menghitung akurasi\n",
    "from sklearn.metrics import accuracy_score\n",
    "\n",
    "# Menghitung Akurasi\n",
    "print(\"Accuracy:\"\n",
    "      , round(accuracy_score(y_test, y_predict_class), 3)) # Membulatkan nilai akurasi menjadi tiga angka di belakang koma"
   ]
  },
  {
   "cell_type": "markdown",
   "id": "d8671835-efc2-4b67-a71c-a356162379f2",
   "metadata": {},
   "source": [
    "- dapat dilihat bahwa pada Linear Regression tingkat accuracy bernilai 0.562 atau 56.2% dari seluruh data"
   ]
  },
  {
   "cell_type": "markdown",
   "id": "d6d646d9-1ef0-41aa-8ced-8b559e25ce90",
   "metadata": {},
   "source": [
    "### logistic regression\n",
    "---"
   ]
  },
  {
   "cell_type": "code",
   "execution_count": 67,
   "id": "ea7c7cf6-f7df-46ec-b8f5-4592cb102942",
   "metadata": {},
   "outputs": [
    {
     "data": {
      "text/html": [
       "<div>\n",
       "<style scoped>\n",
       "    .dataframe tbody tr th:only-of-type {\n",
       "        vertical-align: middle;\n",
       "    }\n",
       "\n",
       "    .dataframe tbody tr th {\n",
       "        vertical-align: top;\n",
       "    }\n",
       "\n",
       "    .dataframe thead th {\n",
       "        text-align: right;\n",
       "    }\n",
       "</style>\n",
       "<table border=\"1\" class=\"dataframe\">\n",
       "  <thead>\n",
       "    <tr style=\"text-align: right;\">\n",
       "      <th></th>\n",
       "      <th>Time</th>\n",
       "      <th>Length</th>\n",
       "      <th>Airline</th>\n",
       "      <th>AirportFrom</th>\n",
       "      <th>AirportTo</th>\n",
       "      <th>DayOfWeek</th>\n",
       "      <th>Class</th>\n",
       "    </tr>\n",
       "  </thead>\n",
       "  <tbody>\n",
       "    <tr>\n",
       "      <th>0</th>\n",
       "      <td>0.161638</td>\n",
       "      <td>0.771084</td>\n",
       "      <td>WN</td>\n",
       "      <td>IAH</td>\n",
       "      <td>PHX</td>\n",
       "      <td>5</td>\n",
       "      <td>0</td>\n",
       "    </tr>\n",
       "    <tr>\n",
       "      <th>1</th>\n",
       "      <td>-0.926724</td>\n",
       "      <td>-0.602410</td>\n",
       "      <td>OO</td>\n",
       "      <td>DSM</td>\n",
       "      <td>MKE</td>\n",
       "      <td>2</td>\n",
       "      <td>0</td>\n",
       "    </tr>\n",
       "    <tr>\n",
       "      <th>2</th>\n",
       "      <td>-0.118534</td>\n",
       "      <td>1.698795</td>\n",
       "      <td>DL</td>\n",
       "      <td>SEA</td>\n",
       "      <td>CVG</td>\n",
       "      <td>7</td>\n",
       "      <td>0</td>\n",
       "    </tr>\n",
       "    <tr>\n",
       "      <th>3</th>\n",
       "      <td>-0.431034</td>\n",
       "      <td>1.433735</td>\n",
       "      <td>WN</td>\n",
       "      <td>SNA</td>\n",
       "      <td>MDW</td>\n",
       "      <td>7</td>\n",
       "      <td>1</td>\n",
       "    </tr>\n",
       "    <tr>\n",
       "      <th>4</th>\n",
       "      <td>-0.571121</td>\n",
       "      <td>0.204819</td>\n",
       "      <td>CO</td>\n",
       "      <td>IAH</td>\n",
       "      <td>MCO</td>\n",
       "      <td>6</td>\n",
       "      <td>1</td>\n",
       "    </tr>\n",
       "  </tbody>\n",
       "</table>\n",
       "</div>"
      ],
      "text/plain": [
       "       Time    Length Airline AirportFrom AirportTo  DayOfWeek  Class\n",
       "0  0.161638  0.771084      WN         IAH       PHX          5      0\n",
       "1 -0.926724 -0.602410      OO         DSM       MKE          2      0\n",
       "2 -0.118534  1.698795      DL         SEA       CVG          7      0\n",
       "3 -0.431034  1.433735      WN         SNA       MDW          7      1\n",
       "4 -0.571121  0.204819      CO         IAH       MCO          6      1"
      ]
     },
     "execution_count": 67,
     "metadata": {},
     "output_type": "execute_result"
    }
   ],
   "source": [
    "df.head()"
   ]
  },
  {
   "cell_type": "code",
   "execution_count": 68,
   "id": "0cf0304d-9bc5-4a05-a324-84e587101a5b",
   "metadata": {},
   "outputs": [],
   "source": [
    "# Scaling\n",
    "from sklearn.preprocessing import RobustScaler"
   ]
  },
  {
   "cell_type": "code",
   "execution_count": 69,
   "id": "e45c5497-7165-4591-a89d-2e2c1eb82e70",
   "metadata": {},
   "outputs": [
    {
     "data": {
      "text/html": [
       "<div>\n",
       "<style scoped>\n",
       "    .dataframe tbody tr th:only-of-type {\n",
       "        vertical-align: middle;\n",
       "    }\n",
       "\n",
       "    .dataframe tbody tr th {\n",
       "        vertical-align: top;\n",
       "    }\n",
       "\n",
       "    .dataframe thead th {\n",
       "        text-align: right;\n",
       "    }\n",
       "</style>\n",
       "<table border=\"1\" class=\"dataframe\">\n",
       "  <thead>\n",
       "    <tr style=\"text-align: right;\">\n",
       "      <th></th>\n",
       "      <th>Time</th>\n",
       "      <th>Length</th>\n",
       "      <th>Airline</th>\n",
       "      <th>AirportFrom</th>\n",
       "      <th>AirportTo</th>\n",
       "      <th>DayOfWeek</th>\n",
       "      <th>Class</th>\n",
       "    </tr>\n",
       "  </thead>\n",
       "  <tbody>\n",
       "    <tr>\n",
       "      <th>0</th>\n",
       "      <td>0.157127</td>\n",
       "      <td>0.785714</td>\n",
       "      <td>WN</td>\n",
       "      <td>IAH</td>\n",
       "      <td>PHX</td>\n",
       "      <td>5</td>\n",
       "      <td>0</td>\n",
       "    </tr>\n",
       "    <tr>\n",
       "      <th>1</th>\n",
       "      <td>-1.033911</td>\n",
       "      <td>-0.842857</td>\n",
       "      <td>OO</td>\n",
       "      <td>DSM</td>\n",
       "      <td>MKE</td>\n",
       "      <td>2</td>\n",
       "      <td>0</td>\n",
       "    </tr>\n",
       "    <tr>\n",
       "      <th>2</th>\n",
       "      <td>-0.149477</td>\n",
       "      <td>1.885714</td>\n",
       "      <td>DL</td>\n",
       "      <td>SEA</td>\n",
       "      <td>CVG</td>\n",
       "      <td>7</td>\n",
       "      <td>0</td>\n",
       "    </tr>\n",
       "    <tr>\n",
       "      <th>3</th>\n",
       "      <td>-0.491458</td>\n",
       "      <td>1.571429</td>\n",
       "      <td>WN</td>\n",
       "      <td>SNA</td>\n",
       "      <td>MDW</td>\n",
       "      <td>7</td>\n",
       "      <td>1</td>\n",
       "    </tr>\n",
       "    <tr>\n",
       "      <th>4</th>\n",
       "      <td>-0.644760</td>\n",
       "      <td>0.114286</td>\n",
       "      <td>CO</td>\n",
       "      <td>IAH</td>\n",
       "      <td>MCO</td>\n",
       "      <td>6</td>\n",
       "      <td>1</td>\n",
       "    </tr>\n",
       "  </tbody>\n",
       "</table>\n",
       "</div>"
      ],
      "text/plain": [
       "       Time    Length Airline AirportFrom AirportTo  DayOfWeek  Class\n",
       "0  0.157127  0.785714      WN         IAH       PHX          5      0\n",
       "1 -1.033911 -0.842857      OO         DSM       MKE          2      0\n",
       "2 -0.149477  1.885714      DL         SEA       CVG          7      0\n",
       "3 -0.491458  1.571429      WN         SNA       MDW          7      1\n",
       "4 -0.644760  0.114286      CO         IAH       MCO          6      1"
      ]
     },
     "execution_count": 69,
     "metadata": {},
     "output_type": "execute_result"
    }
   ],
   "source": [
    "scaler = RobustScaler()\n",
    "df[['Time','Length']] = scaler.fit_transform(df[['Time','Length']])\n",
    "df.head()"
   ]
  },
  {
   "cell_type": "code",
   "execution_count": 70,
   "id": "d67cbe1f-13fb-412d-901a-9daedd9350df",
   "metadata": {},
   "outputs": [],
   "source": [
    "# Menyimpan nama kolom yang berjenis kategori ke dalam variabel cat_col\n",
    "cat_col = ['Airline','AirportFrom','AirportTo','DayOfWeek']"
   ]
  },
  {
   "cell_type": "code",
   "execution_count": 71,
   "id": "bf404a23-680a-44fe-b649-11daf49eaddf",
   "metadata": {},
   "outputs": [],
   "source": [
    "# Encoding Kolom Kategori\n",
    "from sklearn import preprocessing\n",
    "le = preprocessing.LabelEncoder()\n",
    "df[cat_col] = df[cat_col].apply(le.fit_transform)"
   ]
  },
  {
   "cell_type": "code",
   "execution_count": 72,
   "id": "bbe0fc99-bc52-490e-92a2-231e3ea5e1dd",
   "metadata": {},
   "outputs": [
    {
     "data": {
      "text/html": [
       "<div>\n",
       "<style scoped>\n",
       "    .dataframe tbody tr th:only-of-type {\n",
       "        vertical-align: middle;\n",
       "    }\n",
       "\n",
       "    .dataframe tbody tr th {\n",
       "        vertical-align: top;\n",
       "    }\n",
       "\n",
       "    .dataframe thead th {\n",
       "        text-align: right;\n",
       "    }\n",
       "</style>\n",
       "<table border=\"1\" class=\"dataframe\">\n",
       "  <thead>\n",
       "    <tr style=\"text-align: right;\">\n",
       "      <th></th>\n",
       "      <th>Time</th>\n",
       "      <th>Length</th>\n",
       "      <th>Airline</th>\n",
       "      <th>AirportFrom</th>\n",
       "      <th>AirportTo</th>\n",
       "      <th>DayOfWeek</th>\n",
       "      <th>Class</th>\n",
       "    </tr>\n",
       "  </thead>\n",
       "  <tbody>\n",
       "    <tr>\n",
       "      <th>0</th>\n",
       "      <td>0.157127</td>\n",
       "      <td>0.785714</td>\n",
       "      <td>15</td>\n",
       "      <td>125</td>\n",
       "      <td>199</td>\n",
       "      <td>4</td>\n",
       "      <td>0</td>\n",
       "    </tr>\n",
       "    <tr>\n",
       "      <th>1</th>\n",
       "      <td>-1.033911</td>\n",
       "      <td>-0.842857</td>\n",
       "      <td>12</td>\n",
       "      <td>76</td>\n",
       "      <td>170</td>\n",
       "      <td>1</td>\n",
       "      <td>0</td>\n",
       "    </tr>\n",
       "    <tr>\n",
       "      <th>2</th>\n",
       "      <td>-0.149477</td>\n",
       "      <td>1.885714</td>\n",
       "      <td>5</td>\n",
       "      <td>235</td>\n",
       "      <td>64</td>\n",
       "      <td>6</td>\n",
       "      <td>0</td>\n",
       "    </tr>\n",
       "    <tr>\n",
       "      <th>3</th>\n",
       "      <td>-0.491458</td>\n",
       "      <td>1.571429</td>\n",
       "      <td>15</td>\n",
       "      <td>245</td>\n",
       "      <td>162</td>\n",
       "      <td>6</td>\n",
       "      <td>1</td>\n",
       "    </tr>\n",
       "    <tr>\n",
       "      <th>4</th>\n",
       "      <td>-0.644760</td>\n",
       "      <td>0.114286</td>\n",
       "      <td>4</td>\n",
       "      <td>125</td>\n",
       "      <td>160</td>\n",
       "      <td>5</td>\n",
       "      <td>1</td>\n",
       "    </tr>\n",
       "  </tbody>\n",
       "</table>\n",
       "</div>"
      ],
      "text/plain": [
       "       Time    Length  Airline  AirportFrom  AirportTo  DayOfWeek  Class\n",
       "0  0.157127  0.785714       15          125        199          4      0\n",
       "1 -1.033911 -0.842857       12           76        170          1      0\n",
       "2 -0.149477  1.885714        5          235         64          6      0\n",
       "3 -0.491458  1.571429       15          245        162          6      1\n",
       "4 -0.644760  0.114286        4          125        160          5      1"
      ]
     },
     "execution_count": 72,
     "metadata": {},
     "output_type": "execute_result"
    }
   ],
   "source": [
    "df.head()"
   ]
  },
  {
   "cell_type": "code",
   "execution_count": 73,
   "id": "5b47b956-4f92-4362-9405-4aa6a6c53b56",
   "metadata": {},
   "outputs": [],
   "source": [
    "# Membuat variabel independen (X) dan variabel dependen (y)\n",
    "# Iloc mebuat group berdasarkan range / jarak\n",
    "X = df.iloc[:,0:-1].values\n",
    "y = df.iloc[:,-1].values"
   ]
  },
  {
   "cell_type": "code",
   "execution_count": 74,
   "id": "6a137bca-a8eb-4b99-af86-df52cce56b29",
   "metadata": {},
   "outputs": [],
   "source": [
    "# Membagi dataset ke data latih dan data uji\n",
    "from sklearn.model_selection import train_test_split\n",
    "X_train, X_test, y_train, y_test = train_test_split(X,y,test_size=0.3, random_state=0)"
   ]
  },
  {
   "cell_type": "code",
   "execution_count": 75,
   "id": "47d149be-9bca-45d9-aecd-6df26e564819",
   "metadata": {},
   "outputs": [],
   "source": [
    "# Membuat Model - LogisticRegression\n",
    "from sklearn.linear_model import LogisticRegression\n",
    "\n",
    "reg = LogisticRegression(solver='lbfgs', max_iter=1000)"
   ]
  },
  {
   "cell_type": "code",
   "execution_count": 76,
   "id": "1b580c27-78ad-448d-a9c3-c10c665fec7c",
   "metadata": {},
   "outputs": [],
   "source": [
    "reg.fit(X_train, y_train)\n",
    "y_pred = reg.predict(X_test)"
   ]
  },
  {
   "cell_type": "code",
   "execution_count": 77,
   "id": "39e7761b-53d3-458c-8453-6b4e1dc42872",
   "metadata": {},
   "outputs": [
    {
     "name": "stdout",
     "output_type": "stream",
     "text": [
      "              precision    recall  f1-score   support\n",
      "\n",
      " Not Delayed       0.59      0.76      0.66      1823\n",
      "     Delayed       0.51      0.33      0.40      1414\n",
      "\n",
      "    accuracy                           0.57      3237\n",
      "   macro avg       0.55      0.54      0.53      3237\n",
      "weighted avg       0.56      0.57      0.55      3237\n",
      "\n"
     ]
    }
   ],
   "source": [
    "# Import library\n",
    "from sklearn.metrics import classification_report\n",
    "\n",
    "# Mendefinisikan nama kelas dalam array\n",
    "target_names = ['Not Delayed', 'Delayed']\n",
    "\n",
    "print(classification_report(y_test # Array target yang berisi label aktual\n",
    "                            , y_pred # Array target yang berisi label prediksi\n",
    "                            , target_names=target_names)) #Memberikan nama kelas yang akan ditampilkan"
   ]
  },
  {
   "cell_type": "markdown",
   "id": "5bdc67f2-6a49-4fe8-b9fd-74a985a28f17",
   "metadata": {},
   "source": [
    "- Dapat dilihat untuk logistic regression nilai accuracy adalah 57% dari keseluruhan sample"
   ]
  },
  {
   "cell_type": "markdown",
   "id": "e3ae6180-1ba9-4713-ae8a-115d39edbda0",
   "metadata": {},
   "source": [
    "### K-NN\n",
    "---"
   ]
  },
  {
   "cell_type": "code",
   "execution_count": 78,
   "id": "e9bf17cf-2f43-4961-ad7e-76b5e5603c08",
   "metadata": {},
   "outputs": [
    {
     "data": {
      "text/html": [
       "<div>\n",
       "<style scoped>\n",
       "    .dataframe tbody tr th:only-of-type {\n",
       "        vertical-align: middle;\n",
       "    }\n",
       "\n",
       "    .dataframe tbody tr th {\n",
       "        vertical-align: top;\n",
       "    }\n",
       "\n",
       "    .dataframe thead th {\n",
       "        text-align: right;\n",
       "    }\n",
       "</style>\n",
       "<table border=\"1\" class=\"dataframe\">\n",
       "  <thead>\n",
       "    <tr style=\"text-align: right;\">\n",
       "      <th></th>\n",
       "      <th>Time</th>\n",
       "      <th>Length</th>\n",
       "      <th>Airline</th>\n",
       "      <th>AirportFrom</th>\n",
       "      <th>AirportTo</th>\n",
       "      <th>DayOfWeek</th>\n",
       "      <th>Class</th>\n",
       "    </tr>\n",
       "  </thead>\n",
       "  <tbody>\n",
       "    <tr>\n",
       "      <th>0</th>\n",
       "      <td>0.157127</td>\n",
       "      <td>0.785714</td>\n",
       "      <td>15</td>\n",
       "      <td>125</td>\n",
       "      <td>199</td>\n",
       "      <td>4</td>\n",
       "      <td>0</td>\n",
       "    </tr>\n",
       "    <tr>\n",
       "      <th>1</th>\n",
       "      <td>-1.033911</td>\n",
       "      <td>-0.842857</td>\n",
       "      <td>12</td>\n",
       "      <td>76</td>\n",
       "      <td>170</td>\n",
       "      <td>1</td>\n",
       "      <td>0</td>\n",
       "    </tr>\n",
       "    <tr>\n",
       "      <th>2</th>\n",
       "      <td>-0.149477</td>\n",
       "      <td>1.885714</td>\n",
       "      <td>5</td>\n",
       "      <td>235</td>\n",
       "      <td>64</td>\n",
       "      <td>6</td>\n",
       "      <td>0</td>\n",
       "    </tr>\n",
       "    <tr>\n",
       "      <th>3</th>\n",
       "      <td>-0.491458</td>\n",
       "      <td>1.571429</td>\n",
       "      <td>15</td>\n",
       "      <td>245</td>\n",
       "      <td>162</td>\n",
       "      <td>6</td>\n",
       "      <td>1</td>\n",
       "    </tr>\n",
       "    <tr>\n",
       "      <th>4</th>\n",
       "      <td>-0.644760</td>\n",
       "      <td>0.114286</td>\n",
       "      <td>4</td>\n",
       "      <td>125</td>\n",
       "      <td>160</td>\n",
       "      <td>5</td>\n",
       "      <td>1</td>\n",
       "    </tr>\n",
       "  </tbody>\n",
       "</table>\n",
       "</div>"
      ],
      "text/plain": [
       "       Time    Length  Airline  AirportFrom  AirportTo  DayOfWeek  Class\n",
       "0  0.157127  0.785714       15          125        199          4      0\n",
       "1 -1.033911 -0.842857       12           76        170          1      0\n",
       "2 -0.149477  1.885714        5          235         64          6      0\n",
       "3 -0.491458  1.571429       15          245        162          6      1\n",
       "4 -0.644760  0.114286        4          125        160          5      1"
      ]
     },
     "execution_count": 78,
     "metadata": {},
     "output_type": "execute_result"
    }
   ],
   "source": [
    "df.head()"
   ]
  },
  {
   "cell_type": "code",
   "execution_count": 79,
   "id": "3f21bc2f-87ba-43f5-8d01-3abbfdc6c582",
   "metadata": {},
   "outputs": [],
   "source": [
    "# Membuat Model - Import Library\n",
    "from sklearn.model_selection import cross_val_score, KFold\n",
    "from sklearn.neighbors import KNeighborsClassifier\n",
    "from sklearn.metrics import accuracy_score, classification_report, roc_auc_score"
   ]
  },
  {
   "cell_type": "code",
   "execution_count": 80,
   "id": "2c1e4634-eaf3-43a6-beec-3b1d90d9a4b2",
   "metadata": {},
   "outputs": [
    {
     "name": "stdout",
     "output_type": "stream",
     "text": [
      "Accuracy on the training set: 0.557\n"
     ]
    }
   ],
   "source": [
    "knn = KNeighborsClassifier(n_neighbors= 3) # Menentukan jumlah tetangga terdekat (nearest neighbors)\n",
    "\n",
    "# Melatih model\n",
    "knn.fit(X_train, y_train)\n",
    "\n",
    "# Melakukan validasi silang dengan membagi data pelatihan menjadi 5 lipatan (folds)\n",
    "k = KFold(n_splits = 5)\n",
    "\n",
    "# Menghitung skor akurasi untuk setiap lipatan menggunakan metode validasi silang yang telah ditentukan\n",
    "score = cross_val_score(knn\n",
    "                        , X_train, y_train\n",
    "                        , scoring = 'accuracy' #Parameter yang ingin digunakan\n",
    "                        , cv = k).mean() # cv=k -> jumlah lipatan, .mean() -> menghitung rata-rata skor akurasi\n",
    "\n",
    "# Mencetak skor akurasi pada set data pelatihan dengan pembulatan ke 3 desimal\n",
    "print(\"Accuracy on the training set:\", round(score, 3))"
   ]
  },
  {
   "cell_type": "code",
   "execution_count": 81,
   "id": "c8a84912-a3e9-47d5-a68c-5c6e5bd5ae69",
   "metadata": {},
   "outputs": [],
   "source": [
    "# Membuat list kosong dalam variabel accuracy\n",
    "accuracy = []\n",
    "\n",
    "# Membuat loop dengan rentang nilai i dari 1-14 (Exclude 15)\n",
    "# Loop akan menguji setiap n dari 1-14 untuk mencari n dengan akurasi yang paling tinggi\n",
    "\n",
    "for i in range(1,15):\n",
    "    knn = KNeighborsClassifier(n_neighbors=i)\n",
    "    knn.fit(X_train,y_train)\n",
    "    pred_i = knn.predict(X_test)\n",
    "    accuracy_i = accuracy_score(y_test, pred_i)\n",
    "\n",
    "    # Menyimpan skor akurasi pada setiap iterasi ke dalam list \"accuracy\"\n",
    "    accuracy.append(accuracy_i)"
   ]
  },
  {
   "cell_type": "code",
   "execution_count": 82,
   "id": "27457e4f-4c9f-4083-b82a-01b862c1a6d0",
   "metadata": {},
   "outputs": [],
   "source": [
    "# Import library untuk menampilakan visualisasi data\n",
    "import matplotlib.pyplot as plt"
   ]
  },
  {
   "cell_type": "code",
   "execution_count": 83,
   "id": "9efbe0d3-a512-4b87-beb1-26c9446fbc94",
   "metadata": {},
   "outputs": [
    {
     "data": {
      "image/png": "[encoded data removed]",
      "text/plain": [
       "<Figure size 1080x432 with 1 Axes>"
      ]
     },
     "metadata": {
      "needs_background": "light"
     },
     "output_type": "display_data"
    }
   ],
   "source": [
    "# Melihat akurasi dari setiap iterasi pada line chart\n",
    "plt.figure(figsize=(15,6))\n",
    "plt.plot(range(1,15, 1), accuracy, color='blue', linestyle='dashed', marker='o',\n",
    "         markerfacecolor='red', markersize=10)\n",
    "plt.title('Accuracy vs. K Value')\n",
    "plt.xlabel('K')\n",
    "plt.ylabel('Accuracy')\n",
    "plt.show()"
   ]
  },
  {
   "cell_type": "code",
   "execution_count": 84,
   "id": "e964621d-23ae-4b74-9208-f12d6528902b",
   "metadata": {},
   "outputs": [],
   "source": [
    "# Dapat dilihat dari grafik di atas bahwa akurasi paling tinggi didapatkan dengan n = 14\n",
    "knn = KNeighborsClassifier(n_neighbors = 4)\n",
    "knn.fit(X_train, y_train)\n",
    "y_pred = knn.predict(X_test)"
   ]
  },
  {
   "cell_type": "code",
   "execution_count": 85,
   "id": "d22140fa-aa01-4ad9-9cbd-5aa78e66ad55",
   "metadata": {},
   "outputs": [
    {
     "name": "stdout",
     "output_type": "stream",
     "text": [
      "Accuracy on the test set: 56.1%\n"
     ]
    }
   ],
   "source": [
    "accuracy = accuracy_score(y_test, y_pred)\n",
    "print(f\"Accuracy on the test set: {round(accuracy * 100, 2)}%\")"
   ]
  },
  {
   "cell_type": "code",
   "execution_count": 86,
   "id": "5de2d975-df04-4789-84ac-402dbd9ce9a6",
   "metadata": {},
   "outputs": [
    {
     "name": "stdout",
     "output_type": "stream",
     "text": [
      "              precision    recall  f1-score   support\n",
      "\n",
      " Not Delayed       0.58      0.77      0.66      1823\n",
      "     Delayed       0.50      0.30      0.37      1414\n",
      "\n",
      "    accuracy                           0.56      3237\n",
      "   macro avg       0.54      0.53      0.52      3237\n",
      "weighted avg       0.55      0.56      0.54      3237\n",
      "\n"
     ]
    }
   ],
   "source": [
    "print(classification_report(y_test, y_pred, target_names=target_names))"
   ]
  },
  {
   "cell_type": "markdown",
   "id": "1fa9e4ec-39d1-48c7-b21c-c42796d50353",
   "metadata": {},
   "source": [
    "- dapata dilihat bawha pada model K-NN nilai accuracy data terdapat pada nilai 56.1%"
   ]
  },
  {
   "cell_type": "markdown",
   "id": "09272a33-7b50-4d07-a04a-0648ce3a69b7",
   "metadata": {},
   "source": [
    "---\n",
    "## Kesimpulan dari 3 model \n",
    "\n",
    "### 1. Linear Regression (56.2%)\n",
    "### 2. Logistic Regression (57%)\n",
    "### 3. K-NN (56.1%)\n",
    "\n",
    " - Dapat disimpulkan bahwa Logistic Regression memiliki tingkat accuracy yang lebih tinggi dibanding ke-2 lainnya"
   ]
  },
  {
   "cell_type": "code",
   "execution_count": null,
   "id": "9dc3061b-5c2a-4774-95af-b619713d171d",
   "metadata": {},
   "outputs": [],
   "source": []
  }
 ],
 "metadata": {
  "colab": {
   "provenance": []
  },
  "kernelspec": {
   "display_name": "Python 3 (ipykernel)",
   "language": "python",
   "name": "python3"
  },
  "language_info": {
   "codemirror_mode": {
    "name": "ipython",
    "version": 3
   },
   "file_extension": ".py",
   "mimetype": "text/x-python",
   "name": "python",
   "nbconvert_exporter": "python",
   "pygments_lexer": "ipython3",
   "version": "3.8.10"
  }
 },
 "nbformat": 4,
 "nbformat_minor": 5
}
